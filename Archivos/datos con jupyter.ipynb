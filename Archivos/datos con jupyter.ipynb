{
 "cells": [
  {
   "cell_type": "code",
   "execution_count": 1,
   "metadata": {},
   "outputs": [
    {
     "name": "stdout",
     "output_type": "stream",
     "text": [
      "   Nombre   apellido  edad\n",
      "0   Lucas      Dalto    99\n",
      "1  Juanjo     Bernuy    42\n",
      "2   Alana        Mas    33\n",
      "3    Neal    Bernuy,    36\n",
      "4  Andoni  Fernández    42\n"
     ]
    }
   ],
   "source": [
    "import pandas as pd\n",
    "archivo = pd.read_csv(\"/Users/jjbernuy/Downloads/JJ/vsc-cursito/Aprendizaje/archivos/archivo.csv\")\n",
    "print(archivo)"
   ]
  },
  {
   "cell_type": "code",
   "execution_count": 2,
   "metadata": {},
   "outputs": [],
   "source": [
    "import pandas as pd"
   ]
  },
  {
   "cell_type": "code",
   "execution_count": 3,
   "metadata": {},
   "outputs": [],
   "source": [
    "archivo = pd.read_csv(\"/Users/jjbernuy/Downloads/JJ/vsc-cursito/Aprendizaje/archivos/archivo.csv\")"
   ]
  },
  {
   "cell_type": "code",
   "execution_count": 4,
   "metadata": {},
   "outputs": [
    {
     "name": "stdout",
     "output_type": "stream",
     "text": [
      "   Nombre   apellido  edad\n",
      "0   Lucas      Dalto    99\n",
      "1  Juanjo     Bernuy    42\n",
      "2   Alana        Mas    33\n",
      "3    Neal    Bernuy,    36\n",
      "4  Andoni  Fernández    42\n"
     ]
    }
   ],
   "source": [
    "print(archivo)"
   ]
  }
 ],
 "metadata": {
  "kernelspec": {
   "display_name": "Python 3",
   "language": "python",
   "name": "python3"
  },
  "language_info": {
   "codemirror_mode": {
    "name": "ipython",
    "version": 3
   },
   "file_extension": ".py",
   "mimetype": "text/x-python",
   "name": "python",
   "nbconvert_exporter": "python",
   "pygments_lexer": "ipython3",
   "version": "3.8.9"
  }
 },
 "nbformat": 4,
 "nbformat_minor": 2
}
